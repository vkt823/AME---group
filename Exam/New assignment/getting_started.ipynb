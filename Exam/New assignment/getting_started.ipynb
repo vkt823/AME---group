{
 "cells": [
  {
   "cell_type": "markdown",
   "metadata": {},
   "source": [
    "# Advanced Microeconometrics 2023 Final Exam: Getting Started with the Data\n",
    "\n",
    "*9:00 am January 13th to 9:00 am January 15th, 2024* \n",
    "\n",
    "The code herein is merely intended as a help for reading in the data. You are free to disregard it entirely. "
   ]
  },
  {
   "cell_type": "code",
   "execution_count": 46,
   "metadata": {},
   "outputs": [],
   "source": [
    "import pandas as pd\n",
    "import numpy as np\n",
    "from scipy.stats import norm"
   ]
  },
  {
   "cell_type": "code",
   "execution_count": 36,
   "metadata": {},
   "outputs": [
    {
     "name": "stdout",
     "output_type": "stream",
     "text": [
      "The autoreload extension is already loaded. To reload it, use:\n",
      "  %reload_ext autoreload\n"
     ]
    }
   ],
   "source": [
    "import estimation as est\n",
    "import LinearModels as lm\n",
    "import SampleSelection as ssm\n",
    "\n",
    "#autoload\n",
    "%load_ext autoreload\n",
    "%autoreload 2"
   ]
  },
  {
   "cell_type": "markdown",
   "metadata": {},
   "source": [
    "# Cross Sectional Data"
   ]
  },
  {
   "cell_type": "code",
   "execution_count": 37,
   "metadata": {},
   "outputs": [],
   "source": [
    "data = pd.read_csv('data.csv')"
   ]
  },
  {
   "cell_type": "code",
   "execution_count": 38,
   "metadata": {},
   "outputs": [],
   "source": [
    "# Extracting the data\n",
    "y = data['y'].values\n",
    "x = data['x'].values\n",
    "s = data['s'].values"
   ]
  },
  {
   "cell_type": "code",
   "execution_count": 39,
   "metadata": {},
   "outputs": [],
   "source": [
    "y = y.reshape((len(y), 1))\n",
    "x = x.reshape((len(x), 1))\n",
    "s = s.reshape((len(s), 1))"
   ]
  },
  {
   "cell_type": "markdown",
   "metadata": {},
   "source": [
    "# Q7"
   ]
  },
  {
   "cell_type": "code",
   "execution_count": 40,
   "metadata": {},
   "outputs": [],
   "source": [
    "Starting_values = ssm.starting_values(s,x)\n",
    "#augment with a 0 column\n",
    "start = np.concatenate((Starting_values, np.zeros((Starting_values.shape[0],1))), axis=1)\n"
   ]
  },
  {
   "cell_type": "code",
   "execution_count": 41,
   "metadata": {},
   "outputs": [
    {
     "name": "stdout",
     "output_type": "stream",
     "text": [
      "Optimization terminated successfully.\n",
      "         Current function value: 0.429875\n",
      "         Iterations: 10\n",
      "         Function evaluations: 33\n",
      "         Gradient evaluations: 11\n"
     ]
    }
   ],
   "source": [
    "#Estimate first step\n",
    "first_step = est.estimate(ssm.q, start, s, x, cov_type='Outer Product')"
   ]
  },
  {
   "cell_type": "code",
   "execution_count": 42,
   "metadata": {},
   "outputs": [],
   "source": [
    "first_step_parlbl = ['theta', 'eta']"
   ]
  },
  {
   "cell_type": "code",
   "execution_count": 43,
   "metadata": {},
   "outputs": [
    {
     "name": "stdout",
     "output_type": "stream",
     "text": [
      "Optimizer succeded after 10 iter. (33 func. evals.). Final criterion:   0.4299.\n",
      "First step results\n"
     ]
    },
    {
     "data": {
      "text/html": [
       "<div>\n",
       "<style scoped>\n",
       "    .dataframe tbody tr th:only-of-type {\n",
       "        vertical-align: middle;\n",
       "    }\n",
       "\n",
       "    .dataframe tbody tr th {\n",
       "        vertical-align: top;\n",
       "    }\n",
       "\n",
       "    .dataframe thead th {\n",
       "        text-align: right;\n",
       "    }\n",
       "</style>\n",
       "<table border=\"1\" class=\"dataframe\">\n",
       "  <thead>\n",
       "    <tr style=\"text-align: right;\">\n",
       "      <th></th>\n",
       "      <th>theta</th>\n",
       "      <th>se</th>\n",
       "      <th>t</th>\n",
       "    </tr>\n",
       "  </thead>\n",
       "  <tbody>\n",
       "    <tr>\n",
       "      <th>theta</th>\n",
       "      <td>1.5041</td>\n",
       "      <td>0.1064</td>\n",
       "      <td>14.135</td>\n",
       "    </tr>\n",
       "    <tr>\n",
       "      <th>eta</th>\n",
       "      <td>0.4888</td>\n",
       "      <td>0.0689</td>\n",
       "      <td>7.093</td>\n",
       "    </tr>\n",
       "  </tbody>\n",
       "</table>\n",
       "</div>"
      ],
      "text/plain": [
       "        theta      se       t\n",
       "theta  1.5041  0.1064  14.135\n",
       "eta    0.4888  0.0689   7.093"
      ]
     },
     "execution_count": 43,
     "metadata": {},
     "output_type": "execute_result"
    }
   ],
   "source": [
    "est.print_table(first_step_parlbl, first_step, title=\"First step results\")"
   ]
  },
  {
   "cell_type": "markdown",
   "metadata": {},
   "source": [
    "# Q11"
   ]
  },
  {
   "cell_type": "code",
   "execution_count": 64,
   "metadata": {},
   "outputs": [],
   "source": [
    "#extract coefficients\n",
    "delta = first_step['theta'][0]\n",
    "eta = first_step['theta'][1]\n",
    "z = delta*x*np.exp(-eta*x)\n",
    "\n",
    "#estimating inverse mills ratio\n",
    "mlambda = norm.pdf(z)/norm.cdf(z)\n",
    "\n",
    "#keep only the ones that are selected\n",
    "mlambda = mlambda[s.flatten()==1]  "
   ]
  },
  {
   "cell_type": "code",
   "execution_count": 73,
   "metadata": {},
   "outputs": [],
   "source": [
    "#adjust x and y to only keep the ones that are selected\n",
    "x2 = x[s.flatten()==1]\n",
    "y2 = y[s.flatten()==1]"
   ]
  },
  {
   "cell_type": "code",
   "execution_count": 74,
   "metadata": {},
   "outputs": [],
   "source": [
    "#add the IMR as a generated regressor\n",
    "ximr = np.hstack((x2, mlambda))"
   ]
  },
  {
   "cell_type": "code",
   "execution_count": 75,
   "metadata": {},
   "outputs": [],
   "source": [
    "#update labels\n",
    "xlbl = ['x', 'IMR']"
   ]
  },
  {
   "cell_type": "code",
   "execution_count": 77,
   "metadata": {},
   "outputs": [],
   "source": [
    "#second step\n",
    "second_step = lm.estimate(y2, ximr)"
   ]
  },
  {
   "cell_type": "code",
   "execution_count": 79,
   "metadata": {},
   "outputs": [
    {
     "name": "stdout",
     "output_type": "stream",
     "text": [
      "Second step results\n",
      "Dependent variable: y\n",
      "\n",
      "           Beta         Se    t-values\n",
      "---  ----------  ---------  ----------\n",
      "x     2.09112    0.0662515   31.5633\n",
      "IMR  -0.0219985  0.0928763   -0.236858\n",
      "R² = 0.625\n",
      "σ² = 1.439\n"
     ]
    }
   ],
   "source": [
    "#extract coefficients\n",
    "lm.print_table(('y', xlbl), second_step, title=\"Second step results\")\n"
   ]
  }
 ],
 "metadata": {
  "kernelspec": {
   "display_name": "base",
   "language": "python",
   "name": "python3"
  },
  "language_info": {
   "codemirror_mode": {
    "name": "ipython",
    "version": 3
   },
   "file_extension": ".py",
   "mimetype": "text/x-python",
   "name": "python",
   "nbconvert_exporter": "python",
   "pygments_lexer": "ipython3",
   "version": "3.11.5"
  }
 },
 "nbformat": 4,
 "nbformat_minor": 2
}
