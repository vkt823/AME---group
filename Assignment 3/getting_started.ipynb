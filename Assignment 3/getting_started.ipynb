{
 "cells": [
  {
   "cell_type": "markdown",
   "metadata": {},
   "source": [
    "# Project 3: Getting Started \n",
    "\n",
    "This notebook is intended to help you get off to a flying start with the cars dataset. You don't have to use this notebook and you can discard any parts you do not like, they are purely intended as a help to get started. "
   ]
  },
  {
   "cell_type": "code",
   "execution_count": 99,
   "metadata": {},
   "outputs": [],
   "source": [
    "import numpy as np \n",
    "import pandas as pd \n",
    "import matplotlib.pyplot as plt \n",
    "import seaborn as sns \n",
    "sns.set_theme()\n",
    "\n",
    "# optimization\n",
    "from scipy import optimize\n",
    "import estimation as est\n",
    "import clogit_post as clogit\n",
    "\n",
    "\n",
    "import statsmodels.formula.api as smf"
   ]
  },
  {
   "cell_type": "markdown",
   "metadata": {},
   "source": [
    "# Read in data\n",
    "\n",
    "The dataset, `cars.csv`, contains cleaned and processed data. If you want to make changes, the notebook, `materialize.ipynb`, creates the data from the raw source datsets. "
   ]
  },
  {
   "cell_type": "code",
   "execution_count": 100,
   "metadata": {},
   "outputs": [],
   "source": [
    "cars = pd.read_csv('cars.csv')\n",
    "lbl_vars = pd.read_csv('labels_variables.csv')\n",
    "lbl_vals = pd.read_csv('labels_values.csv')\n",
    "\n",
    "# convert from dataframe to dict\n",
    "lbl_vals = {c: lbl_vals[c].dropna().to_dict() for c in lbl_vals.columns}"
   ]
  },
  {
   "cell_type": "code",
   "execution_count": 101,
   "metadata": {},
   "outputs": [],
   "source": [
    "lbl_vars.set_index('variable', inplace=True)"
   ]
  },
  {
   "cell_type": "markdown",
   "metadata": {},
   "source": [
    "## Overview of the dataset"
   ]
  },
  {
   "cell_type": "code",
   "execution_count": 102,
   "metadata": {},
   "outputs": [
    {
     "data": {
      "text/html": [
       "<div>\n",
       "<style scoped>\n",
       "    .dataframe tbody tr th:only-of-type {\n",
       "        vertical-align: middle;\n",
       "    }\n",
       "\n",
       "    .dataframe tbody tr th {\n",
       "        vertical-align: top;\n",
       "    }\n",
       "\n",
       "    .dataframe thead th {\n",
       "        text-align: right;\n",
       "    }\n",
       "</style>\n",
       "<table border=\"1\" class=\"dataframe\">\n",
       "  <thead>\n",
       "    <tr style=\"text-align: right;\">\n",
       "      <th></th>\n",
       "      <th>label</th>\n",
       "      <th>Mean</th>\n",
       "    </tr>\n",
       "    <tr>\n",
       "      <th>variable</th>\n",
       "      <th></th>\n",
       "      <th></th>\n",
       "    </tr>\n",
       "  </thead>\n",
       "  <tbody>\n",
       "    <tr>\n",
       "      <th>ye</th>\n",
       "      <td>year (=first dimension of panel)</td>\n",
       "      <td>84.50</td>\n",
       "    </tr>\n",
       "    <tr>\n",
       "      <th>ma</th>\n",
       "      <td>market (=second dimension of panel)</td>\n",
       "      <td>3.00</td>\n",
       "    </tr>\n",
       "    <tr>\n",
       "      <th>co</th>\n",
       "      <td>model code (=third dimension of panel)</td>\n",
       "      <td>207.50</td>\n",
       "    </tr>\n",
       "    <tr>\n",
       "      <th>zcode</th>\n",
       "      <td>alternative model code (predecessors and succe...</td>\n",
       "      <td>177.76</td>\n",
       "    </tr>\n",
       "    <tr>\n",
       "      <th>brd</th>\n",
       "      <td>brand code</td>\n",
       "      <td>16.79</td>\n",
       "    </tr>\n",
       "    <tr>\n",
       "      <th>type</th>\n",
       "      <td>name of brand and model</td>\n",
       "      <td>NaN</td>\n",
       "    </tr>\n",
       "    <tr>\n",
       "      <th>brand</th>\n",
       "      <td>name of brand</td>\n",
       "      <td>NaN</td>\n",
       "    </tr>\n",
       "    <tr>\n",
       "      <th>model</th>\n",
       "      <td>name of model</td>\n",
       "      <td>NaN</td>\n",
       "    </tr>\n",
       "    <tr>\n",
       "      <th>org</th>\n",
       "      <td>origin code (demand side, country with which c...</td>\n",
       "      <td>2.72</td>\n",
       "    </tr>\n",
       "    <tr>\n",
       "      <th>loc</th>\n",
       "      <td>location code (production side, country where ...</td>\n",
       "      <td>5.17</td>\n",
       "    </tr>\n",
       "    <tr>\n",
       "      <th>cla</th>\n",
       "      <td>class or segment code</td>\n",
       "      <td>2.30</td>\n",
       "    </tr>\n",
       "    <tr>\n",
       "      <th>home</th>\n",
       "      <td>domestic car dummy (appropriate interaction of...</td>\n",
       "      <td>0.32</td>\n",
       "    </tr>\n",
       "    <tr>\n",
       "      <th>frm</th>\n",
       "      <td>firm code</td>\n",
       "      <td>14.50</td>\n",
       "    </tr>\n",
       "    <tr>\n",
       "      <th>qu</th>\n",
       "      <td>sales (number of new car registrations)</td>\n",
       "      <td>35606.68</td>\n",
       "    </tr>\n",
       "    <tr>\n",
       "      <th>cy</th>\n",
       "      <td>cylinder volume or displacement (in cc)</td>\n",
       "      <td>1337.09</td>\n",
       "    </tr>\n",
       "    <tr>\n",
       "      <th>hp</th>\n",
       "      <td>horsepower (in kW)</td>\n",
       "      <td>50.10</td>\n",
       "    </tr>\n",
       "    <tr>\n",
       "      <th>we</th>\n",
       "      <td>weight (in kg)</td>\n",
       "      <td>934.49</td>\n",
       "    </tr>\n",
       "    <tr>\n",
       "      <th>pl</th>\n",
       "      <td>places (number, not reliable variable)</td>\n",
       "      <td>4.88</td>\n",
       "    </tr>\n",
       "    <tr>\n",
       "      <th>do</th>\n",
       "      <td>doors (number, not reliable variable)</td>\n",
       "      <td>3.55</td>\n",
       "    </tr>\n",
       "    <tr>\n",
       "      <th>le</th>\n",
       "      <td>length (in cm)</td>\n",
       "      <td>409.24</td>\n",
       "    </tr>\n",
       "    <tr>\n",
       "      <th>wi</th>\n",
       "      <td>width (in cm)</td>\n",
       "      <td>163.44</td>\n",
       "    </tr>\n",
       "    <tr>\n",
       "      <th>he</th>\n",
       "      <td>height (in cm)</td>\n",
       "      <td>140.46</td>\n",
       "    </tr>\n",
       "    <tr>\n",
       "      <th>li1</th>\n",
       "      <td>measure 1 for fuel efficiency (liter per km, a...</td>\n",
       "      <td>6.59</td>\n",
       "    </tr>\n",
       "    <tr>\n",
       "      <th>li2</th>\n",
       "      <td>measure 2 for fuel efficiency (liter per km, a...</td>\n",
       "      <td>8.11</td>\n",
       "    </tr>\n",
       "    <tr>\n",
       "      <th>li3</th>\n",
       "      <td>measure 3 for fuel efficiency (liter per km, a...</td>\n",
       "      <td>8.92</td>\n",
       "    </tr>\n",
       "    <tr>\n",
       "      <th>li</th>\n",
       "      <td>average of li1, li2, li3 (used in papers)</td>\n",
       "      <td>7.87</td>\n",
       "    </tr>\n",
       "    <tr>\n",
       "      <th>sp</th>\n",
       "      <td>maximum speed (km/hour)</td>\n",
       "      <td>154.22</td>\n",
       "    </tr>\n",
       "    <tr>\n",
       "      <th>ac</th>\n",
       "      <td>time to acceleration (in seconds from 0 to 100...</td>\n",
       "      <td>16.27</td>\n",
       "    </tr>\n",
       "    <tr>\n",
       "      <th>pr</th>\n",
       "      <td>price (in destination currency including V.A.T.)</td>\n",
       "      <td>2608988.58</td>\n",
       "    </tr>\n",
       "    <tr>\n",
       "      <th>princ</th>\n",
       "      <td>=pr/(ngdp/pop): price relative to per capita i...</td>\n",
       "      <td>0.76</td>\n",
       "    </tr>\n",
       "    <tr>\n",
       "      <th>eurpr</th>\n",
       "      <td>=pr/avdexr: price in common currency (in SDR t...</td>\n",
       "      <td>7256.92</td>\n",
       "    </tr>\n",
       "    <tr>\n",
       "      <th>exppr</th>\n",
       "      <td>=pr/avexr: price in exporter currency</td>\n",
       "      <td>600384.65</td>\n",
       "    </tr>\n",
       "    <tr>\n",
       "      <th>avexr</th>\n",
       "      <td>av. exchange rate of exporter country (exporte...</td>\n",
       "      <td>229.30</td>\n",
       "    </tr>\n",
       "    <tr>\n",
       "      <th>avdexr</th>\n",
       "      <td>av. exchange rate of destination country (dest...</td>\n",
       "      <td>319.91</td>\n",
       "    </tr>\n",
       "    <tr>\n",
       "      <th>avcpr</th>\n",
       "      <td>av. consumer price index of exporter country</td>\n",
       "      <td>492.53</td>\n",
       "    </tr>\n",
       "    <tr>\n",
       "      <th>avppr</th>\n",
       "      <td>av. producer price index of exporter country</td>\n",
       "      <td>671.77</td>\n",
       "    </tr>\n",
       "    <tr>\n",
       "      <th>avdcpr</th>\n",
       "      <td>av. consumer price index of destination country</td>\n",
       "      <td>77.02</td>\n",
       "    </tr>\n",
       "    <tr>\n",
       "      <th>avdppr</th>\n",
       "      <td>av. producer price index of destination country</td>\n",
       "      <td>87.69</td>\n",
       "    </tr>\n",
       "    <tr>\n",
       "      <th>xexr</th>\n",
       "      <td>avdexr/avexr</td>\n",
       "      <td>66.32</td>\n",
       "    </tr>\n",
       "    <tr>\n",
       "      <th>tax</th>\n",
       "      <td>percentage VAT</td>\n",
       "      <td>0.21</td>\n",
       "    </tr>\n",
       "    <tr>\n",
       "      <th>pop</th>\n",
       "      <td>population</td>\n",
       "      <td>49183800.00</td>\n",
       "    </tr>\n",
       "    <tr>\n",
       "      <th>ngdp</th>\n",
       "      <td>nominal gross domestic product of destination ...</td>\n",
       "      <td>178667304825541.97</td>\n",
       "    </tr>\n",
       "    <tr>\n",
       "      <th>rgdp</th>\n",
       "      <td>real gross domestic product</td>\n",
       "      <td>216716720230172.44</td>\n",
       "    </tr>\n",
       "    <tr>\n",
       "      <th>engdp</th>\n",
       "      <td>=ngdp/avdexr: nominal gdp in common currency (...</td>\n",
       "      <td>504371708122.45</td>\n",
       "    </tr>\n",
       "    <tr>\n",
       "      <th>ergdp</th>\n",
       "      <td>=rgdp/avexr</td>\n",
       "      <td>659002565347.56</td>\n",
       "    </tr>\n",
       "    <tr>\n",
       "      <th>engdpc</th>\n",
       "      <td>=engdp/pop: nominal gdp per capita in common c...</td>\n",
       "      <td>10015.84</td>\n",
       "    </tr>\n",
       "    <tr>\n",
       "      <th>ergdpc</th>\n",
       "      <td>=ergdp/pop</td>\n",
       "      <td>13264.84</td>\n",
       "    </tr>\n",
       "    <tr>\n",
       "      <th>s</th>\n",
       "      <td>market share (qu / qu_tot)</td>\n",
       "      <td>0.02</td>\n",
       "    </tr>\n",
       "    <tr>\n",
       "      <th>qu_tot</th>\n",
       "      <td>total sales in this market-year</td>\n",
       "      <td>1424267.29</td>\n",
       "    </tr>\n",
       "    <tr>\n",
       "      <th>inc</th>\n",
       "      <td>avg. income per capita</td>\n",
       "      <td>26829.74</td>\n",
       "    </tr>\n",
       "  </tbody>\n",
       "</table>\n",
       "</div>"
      ],
      "text/plain": [
       "                                                      label  \\\n",
       "variable                                                      \n",
       "ye                         year (=first dimension of panel)   \n",
       "ma                      market (=second dimension of panel)   \n",
       "co                   model code (=third dimension of panel)   \n",
       "zcode     alternative model code (predecessors and succe...   \n",
       "brd                                              brand code   \n",
       "type                                name of brand and model   \n",
       "brand                                         name of brand   \n",
       "model                                         name of model   \n",
       "org       origin code (demand side, country with which c...   \n",
       "loc       location code (production side, country where ...   \n",
       "cla                                   class or segment code   \n",
       "home      domestic car dummy (appropriate interaction of...   \n",
       "frm                                               firm code   \n",
       "qu                  sales (number of new car registrations)   \n",
       "cy                  cylinder volume or displacement (in cc)   \n",
       "hp                                       horsepower (in kW)   \n",
       "we                                           weight (in kg)   \n",
       "pl                   places (number, not reliable variable)   \n",
       "do                    doors (number, not reliable variable)   \n",
       "le                                           length (in cm)   \n",
       "wi                                            width (in cm)   \n",
       "he                                           height (in cm)   \n",
       "li1       measure 1 for fuel efficiency (liter per km, a...   \n",
       "li2       measure 2 for fuel efficiency (liter per km, a...   \n",
       "li3       measure 3 for fuel efficiency (liter per km, a...   \n",
       "li                average of li1, li2, li3 (used in papers)   \n",
       "sp                                  maximum speed (km/hour)   \n",
       "ac        time to acceleration (in seconds from 0 to 100...   \n",
       "pr         price (in destination currency including V.A.T.)   \n",
       "princ     =pr/(ngdp/pop): price relative to per capita i...   \n",
       "eurpr     =pr/avdexr: price in common currency (in SDR t...   \n",
       "exppr                 =pr/avexr: price in exporter currency   \n",
       "avexr     av. exchange rate of exporter country (exporte...   \n",
       "avdexr    av. exchange rate of destination country (dest...   \n",
       "avcpr          av. consumer price index of exporter country   \n",
       "avppr          av. producer price index of exporter country   \n",
       "avdcpr      av. consumer price index of destination country   \n",
       "avdppr      av. producer price index of destination country   \n",
       "xexr                                           avdexr/avexr   \n",
       "tax                                          percentage VAT   \n",
       "pop                                              population   \n",
       "ngdp      nominal gross domestic product of destination ...   \n",
       "rgdp                            real gross domestic product   \n",
       "engdp     =ngdp/avdexr: nominal gdp in common currency (...   \n",
       "ergdp                                           =rgdp/avexr   \n",
       "engdpc    =engdp/pop: nominal gdp per capita in common c...   \n",
       "ergdpc                                           =ergdp/pop   \n",
       "s                                market share (qu / qu_tot)   \n",
       "qu_tot                      total sales in this market-year   \n",
       "inc                                  avg. income per capita   \n",
       "\n",
       "                         Mean  \n",
       "variable                       \n",
       "ye                      84.50  \n",
       "ma                       3.00  \n",
       "co                     207.50  \n",
       "zcode                  177.76  \n",
       "brd                     16.79  \n",
       "type                      NaN  \n",
       "brand                     NaN  \n",
       "model                     NaN  \n",
       "org                      2.72  \n",
       "loc                      5.17  \n",
       "cla                      2.30  \n",
       "home                     0.32  \n",
       "frm                     14.50  \n",
       "qu                   35606.68  \n",
       "cy                    1337.09  \n",
       "hp                      50.10  \n",
       "we                     934.49  \n",
       "pl                       4.88  \n",
       "do                       3.55  \n",
       "le                     409.24  \n",
       "wi                     163.44  \n",
       "he                     140.46  \n",
       "li1                      6.59  \n",
       "li2                      8.11  \n",
       "li3                      8.92  \n",
       "li                       7.87  \n",
       "sp                     154.22  \n",
       "ac                      16.27  \n",
       "pr                 2608988.58  \n",
       "princ                    0.76  \n",
       "eurpr                 7256.92  \n",
       "exppr               600384.65  \n",
       "avexr                  229.30  \n",
       "avdexr                 319.91  \n",
       "avcpr                  492.53  \n",
       "avppr                  671.77  \n",
       "avdcpr                  77.02  \n",
       "avdppr                  87.69  \n",
       "xexr                    66.32  \n",
       "tax                      0.21  \n",
       "pop               49183800.00  \n",
       "ngdp       178667304825541.97  \n",
       "rgdp       216716720230172.44  \n",
       "engdp         504371708122.45  \n",
       "ergdp         659002565347.56  \n",
       "engdpc               10015.84  \n",
       "ergdpc               13264.84  \n",
       "s                        0.02  \n",
       "qu_tot             1424267.29  \n",
       "inc                  26829.74  "
      ]
     },
     "execution_count": 102,
     "metadata": {},
     "output_type": "execute_result"
    }
   ],
   "source": [
    "lbl_vars.join(cars.mean(numeric_only=True).apply(lambda x: f'{x: .2f}').to_frame('Mean'))"
   ]
  },
  {
   "cell_type": "markdown",
   "metadata": {},
   "source": [
    "# Set up for analysis"
   ]
  },
  {
   "cell_type": "code",
   "execution_count": 103,
   "metadata": {},
   "outputs": [],
   "source": [
    "price_var = 'princ'"
   ]
  },
  {
   "cell_type": "code",
   "execution_count": 104,
   "metadata": {},
   "outputs": [],
   "source": [
    "cars['logp'] = np.log(cars[price_var])"
   ]
  },
  {
   "cell_type": "code",
   "execution_count": 105,
   "metadata": {},
   "outputs": [
    {
     "data": {
      "text/plain": [
       "-0.3606223052101116"
      ]
     },
     "execution_count": 105,
     "metadata": {},
     "output_type": "execute_result"
    }
   ],
   "source": [
    "np.mean(cars['logp'])"
   ]
  },
  {
   "cell_type": "code",
   "execution_count": 106,
   "metadata": {},
   "outputs": [],
   "source": [
    "# new variable: price elasticity heterogeneous for home-region \n",
    "cars['logp_x_home'] = cars[price_var] * cars['home']"
   ]
  },
  {
   "cell_type": "markdown",
   "metadata": {},
   "source": [
    "### Dummy variables\n",
    "\n",
    "For working with matrices, we want to have a column for each dummy variable. "
   ]
  },
  {
   "cell_type": "code",
   "execution_count": 107,
   "metadata": {},
   "outputs": [
    {
     "name": "stdout",
     "output_type": "stream",
     "text": [
      "32\n"
     ]
    }
   ],
   "source": [
    "categorical_var = 'brand' # name of categorical variable\n",
    "dummies = pd.get_dummies(cars[categorical_var]) # creates a matrix of dummies for each value of dummyvar\n",
    "\n",
    "x_vars_dummies = list(dummies.columns[1:].values) # omit a reference category, here it is the first (hence columns[1:])\n",
    "print(len(x_vars_dummies))\n",
    "# add dummies to the dataframe \n",
    "assert dummies.columns[0] not in cars.columns, f'It looks like you have already added this dummy to the dataframe. Avoid duplicates! '\n",
    "cars = pd.concat([cars,dummies], axis=1)"
   ]
  },
  {
   "cell_type": "markdown",
   "metadata": {},
   "source": [
    "### `x_vars`: List of regressors to be used "
   ]
  },
  {
   "cell_type": "code",
   "execution_count": 108,
   "metadata": {},
   "outputs": [
    {
     "name": "stdout",
     "output_type": "stream",
     "text": [
      "K = 38 variables selected.\n"
     ]
    }
   ],
   "source": [
    "x_vars = ['logp', 'home', 'cy', 'hp', 'we', 'li'] + x_vars_dummies # <--- !!! choose your preferred variables here \n",
    "print(f'K = {len(x_vars)} variables selected.')"
   ]
  },
  {
   "cell_type": "code",
   "execution_count": 109,
   "metadata": {},
   "outputs": [
    {
     "name": "stdout",
     "output_type": "stream",
     "text": [
      "['MCC', 'VW', 'alfa romeo', 'audi', 'citroen', 'daewoo', 'daf', 'fiat', 'ford', 'honda', 'hyundai', 'innocenti', 'lancia', 'mazda', 'mercedes', 'mitsubishi', 'nissan', 'opel', 'peugeot', 'renault', 'rover', 'saab', 'seat', 'skoda', 'suzuki', 'tal/hillman', 'tal/matra', 'tal/simca', 'tal/sunb', 'talbot', 'toyota', 'volvo']\n"
     ]
    }
   ],
   "source": [
    "print(x_vars_dummies)"
   ]
  },
  {
   "cell_type": "code",
   "execution_count": 110,
   "metadata": {},
   "outputs": [
    {
     "name": "stdout",
     "output_type": "stream",
     "text": [
      "(150, 40, 38)\n"
     ]
    }
   ],
   "source": [
    "K = len(x_vars)\n",
    "N = cars.ma.nunique() * cars.ye.nunique()\n",
    "J = 40 \n",
    "x = cars[x_vars].values.reshape((N,J,K))\n",
    "y = np.log(cars['s'].values.reshape((N,J)))\n",
    "\n",
    "# standardize x\n",
    "# x = ((x - x.mean(0).mean(0))/(x.std(0).std(0)))\n",
    "print(x.shape)"
   ]
  },
  {
   "cell_type": "markdown",
   "metadata": {},
   "source": [
    "### Understanding the sorting \n",
    "\n",
    "Just to be sure that we understand the relation between the pandas dataframe and the numpy 3d array, consider the following: "
   ]
  },
  {
   "cell_type": "code",
   "execution_count": 111,
   "metadata": {},
   "outputs": [
    {
     "data": {
      "text/plain": [
       "array([ True,  True,  True,  True,  True])"
      ]
     },
     "execution_count": 111,
     "metadata": {},
     "output_type": "execute_result"
    }
   ],
   "source": [
    "# let's check that we get the same row from x as we can find in the original pandas dataframe\n",
    "# we'll pick the first 5 \"observations\"\n",
    "j = 1\n",
    "k = 0 \n",
    "x[:5, j, k] == cars.groupby(['ma','ye']).nth(j)[x_vars[k]].head(5).values"
   ]
  },
  {
   "cell_type": "code",
   "execution_count": 112,
   "metadata": {},
   "outputs": [
    {
     "data": {
      "text/plain": [
       "array([ True,  True,  True,  True,  True])"
      ]
     },
     "execution_count": 112,
     "metadata": {},
     "output_type": "execute_result"
    }
   ],
   "source": [
    "# ... and let's check it for the 5 first cars (in the first market)\n",
    "k = 0\n",
    "x[0, :5, k] == cars[x_vars[k]].head(5).values\n",
    "# note that with i = 3 (4th element), x[i,t,k] gives ma=1 and ye=73 (first market, fourth year)\n",
    "x[3, :5, k] == cars.query('(ma == 1) & (ye == 73)')[x_vars[k]].head(5).values"
   ]
  },
  {
   "cell_type": "code",
   "execution_count": 113,
   "metadata": {},
   "outputs": [
    {
     "name": "stdout",
     "output_type": "stream",
     "text": [
      "[[1 73 'audi 80/90' 0.0198967806548532]\n",
      " [1 73 'audi 100/200' 0.0115738123314003]\n",
      " [1 73 'citroen 2 CV 6 - 2 CV 4' 0.020470221461224]\n",
      " [1 73 'citroen GSA/GSX' 0.0231960844492545]\n",
      " [1 73 'citroen dyane' 0.0232687741289353]]\n",
      "[[5 80 'alfasud' 0.0061322294468038]\n",
      " [5 80 'citroen GSA' 0.0097859984028077]\n",
      " [5 80 'fiat 127' 0.0082314207084408]\n",
      " [5 80 'fiat 131F' 0.0099803206146036]\n",
      " [5 80 'ford fiesta' 0.0781217905939526]]\n"
     ]
    }
   ],
   "source": [
    "# and let's print out some rows along with some labels \n",
    "obs_labs = cars[['ma', 'ye', 'type', 's']].values.reshape(N,J,4) # notice that we are extracting the values from the dataframe in the same way as we did for x\n",
    "\n",
    "i=3 # obs. index 3 is the first market in the fourth (3+1) year, i.e. 73\n",
    "print(obs_labs[i,:5,:])\n",
    "\n",
    "i = 130 # obs. index 130 is the 5th country (130/30>4) and the 11th year (130%30 = index 10)\n",
    "print(obs_labs[i,:5,:])"
   ]
  },
  {
   "cell_type": "markdown",
   "metadata": {},
   "source": [
    "... and just checking that we can find those same columns in the pandas dataframe"
   ]
  },
  {
   "cell_type": "code",
   "execution_count": 114,
   "metadata": {},
   "outputs": [
    {
     "data": {
      "text/plain": [
       "5204    0.078122\n",
       "Name: s, dtype: float64"
      ]
     },
     "execution_count": 114,
     "metadata": {},
     "output_type": "execute_result"
    }
   ],
   "source": [
    "cars.query('(ma == 5) & (ye == 80) & (type == \"ford fiesta\")').s"
   ]
  },
  {
   "cell_type": "markdown",
   "metadata": {},
   "source": [
    "# OLS Example\n",
    "\n",
    "Let's compute the OLS estimator just to test that we can do algebra with the arrays. \n",
    "\n",
    "***Note:*** This particular choice of $y$ and $x$ variables might not make sense, it is just to help you get started doing algebra on these arrays. "
   ]
  },
  {
   "cell_type": "code",
   "execution_count": 115,
   "metadata": {},
   "outputs": [],
   "source": [
    "Y = y.reshape(N*J,) # Make Y 1-dimensional \n",
    "X = np.hstack([x.reshape(N*J,K), np.ones((N*J,1))]).astype(np.float64) # append a constant term and ensure type = float"
   ]
  },
  {
   "cell_type": "code",
   "execution_count": 116,
   "metadata": {},
   "outputs": [
    {
     "data": {
      "text/plain": [
       "array([-3.60622305e-01,  3.16333333e-01,  1.33709042e+03,  5.01000167e+01,\n",
       "        9.34488833e+02,  7.87377500e+00,  3.33333333e-04,  7.51666667e-02,\n",
       "        2.26666667e-02,  3.75000000e-02,  7.65000000e-02,  1.00000000e-03,\n",
       "        4.50000000e-03,  9.46666667e-02,  8.71666667e-02,  1.61666667e-02,\n",
       "        1.33333333e-03,  2.50000000e-03,  2.08333333e-02,  1.96666667e-02,\n",
       "        3.55000000e-02,  8.00000000e-03,  4.13333333e-02,  8.28333333e-02,\n",
       "        7.33333333e-02,  1.09333333e-01,  4.46666667e-02,  1.16666667e-03,\n",
       "        1.48333333e-02,  3.66666667e-03,  1.16666667e-03,  1.66666667e-03,\n",
       "        3.33333333e-04,  1.16666667e-02,  1.66666667e-04,  2.08333333e-02,\n",
       "        2.81666667e-02,  2.01666667e-02,  1.00000000e+00])"
      ]
     },
     "execution_count": 116,
     "metadata": {},
     "output_type": "execute_result"
    }
   ],
   "source": [
    "X.mean(axis=0)"
   ]
  },
  {
   "cell_type": "code",
   "execution_count": 117,
   "metadata": {},
   "outputs": [
    {
     "data": {
      "text/html": [
       "<div>\n",
       "<style scoped>\n",
       "    .dataframe tbody tr th:only-of-type {\n",
       "        vertical-align: middle;\n",
       "    }\n",
       "\n",
       "    .dataframe tbody tr th {\n",
       "        vertical-align: top;\n",
       "    }\n",
       "\n",
       "    .dataframe thead th {\n",
       "        text-align: right;\n",
       "    }\n",
       "</style>\n",
       "<table border=\"1\" class=\"dataframe\">\n",
       "  <thead>\n",
       "    <tr style=\"text-align: right;\">\n",
       "      <th></th>\n",
       "      <th>Estimate</th>\n",
       "    </tr>\n",
       "  </thead>\n",
       "  <tbody>\n",
       "    <tr>\n",
       "      <th>logp</th>\n",
       "      <td>-0.350433</td>\n",
       "    </tr>\n",
       "    <tr>\n",
       "      <th>home</th>\n",
       "      <td>0.973116</td>\n",
       "    </tr>\n",
       "    <tr>\n",
       "      <th>cy</th>\n",
       "      <td>-0.000320</td>\n",
       "    </tr>\n",
       "    <tr>\n",
       "      <th>hp</th>\n",
       "      <td>-0.009740</td>\n",
       "    </tr>\n",
       "    <tr>\n",
       "      <th>we</th>\n",
       "      <td>0.001151</td>\n",
       "    </tr>\n",
       "    <tr>\n",
       "      <th>li</th>\n",
       "      <td>-0.056361</td>\n",
       "    </tr>\n",
       "    <tr>\n",
       "      <th>MCC</th>\n",
       "      <td>-1.176538</td>\n",
       "    </tr>\n",
       "    <tr>\n",
       "      <th>VW</th>\n",
       "      <td>0.159212</td>\n",
       "    </tr>\n",
       "    <tr>\n",
       "      <th>alfa romeo</th>\n",
       "      <td>-0.481739</td>\n",
       "    </tr>\n",
       "    <tr>\n",
       "      <th>audi</th>\n",
       "      <td>-0.059687</td>\n",
       "    </tr>\n",
       "    <tr>\n",
       "      <th>citroen</th>\n",
       "      <td>-0.369507</td>\n",
       "    </tr>\n",
       "    <tr>\n",
       "      <th>daewoo</th>\n",
       "      <td>-0.430635</td>\n",
       "    </tr>\n",
       "    <tr>\n",
       "      <th>daf</th>\n",
       "      <td>-0.795434</td>\n",
       "    </tr>\n",
       "    <tr>\n",
       "      <th>fiat</th>\n",
       "      <td>-0.197321</td>\n",
       "    </tr>\n",
       "    <tr>\n",
       "      <th>ford</th>\n",
       "      <td>0.163673</td>\n",
       "    </tr>\n",
       "    <tr>\n",
       "      <th>honda</th>\n",
       "      <td>-0.187296</td>\n",
       "    </tr>\n",
       "    <tr>\n",
       "      <th>hyundai</th>\n",
       "      <td>-0.749581</td>\n",
       "    </tr>\n",
       "    <tr>\n",
       "      <th>innocenti</th>\n",
       "      <td>-0.952618</td>\n",
       "    </tr>\n",
       "    <tr>\n",
       "      <th>lancia</th>\n",
       "      <td>-0.674198</td>\n",
       "    </tr>\n",
       "    <tr>\n",
       "      <th>mazda</th>\n",
       "      <td>-0.268077</td>\n",
       "    </tr>\n",
       "    <tr>\n",
       "      <th>mercedes</th>\n",
       "      <td>0.303942</td>\n",
       "    </tr>\n",
       "    <tr>\n",
       "      <th>mitsubishi</th>\n",
       "      <td>-0.338838</td>\n",
       "    </tr>\n",
       "    <tr>\n",
       "      <th>nissan</th>\n",
       "      <td>-0.096326</td>\n",
       "    </tr>\n",
       "    <tr>\n",
       "      <th>opel</th>\n",
       "      <td>0.104400</td>\n",
       "    </tr>\n",
       "    <tr>\n",
       "      <th>peugeot</th>\n",
       "      <td>-0.064666</td>\n",
       "    </tr>\n",
       "    <tr>\n",
       "      <th>renault</th>\n",
       "      <td>0.000534</td>\n",
       "    </tr>\n",
       "    <tr>\n",
       "      <th>rover</th>\n",
       "      <td>-0.295847</td>\n",
       "    </tr>\n",
       "    <tr>\n",
       "      <th>saab</th>\n",
       "      <td>-0.615658</td>\n",
       "    </tr>\n",
       "    <tr>\n",
       "      <th>seat</th>\n",
       "      <td>-0.716449</td>\n",
       "    </tr>\n",
       "    <tr>\n",
       "      <th>skoda</th>\n",
       "      <td>-0.947195</td>\n",
       "    </tr>\n",
       "    <tr>\n",
       "      <th>suzuki</th>\n",
       "      <td>-0.889842</td>\n",
       "    </tr>\n",
       "    <tr>\n",
       "      <th>tal/hillman</th>\n",
       "      <td>-0.733625</td>\n",
       "    </tr>\n",
       "    <tr>\n",
       "      <th>tal/matra</th>\n",
       "      <td>-2.015706</td>\n",
       "    </tr>\n",
       "    <tr>\n",
       "      <th>tal/simca</th>\n",
       "      <td>-0.287448</td>\n",
       "    </tr>\n",
       "    <tr>\n",
       "      <th>tal/sunb</th>\n",
       "      <td>-3.409180</td>\n",
       "    </tr>\n",
       "    <tr>\n",
       "      <th>talbot</th>\n",
       "      <td>-0.357037</td>\n",
       "    </tr>\n",
       "    <tr>\n",
       "      <th>toyota</th>\n",
       "      <td>0.024339</td>\n",
       "    </tr>\n",
       "    <tr>\n",
       "      <th>volvo</th>\n",
       "      <td>0.040995</td>\n",
       "    </tr>\n",
       "    <tr>\n",
       "      <th>const</th>\n",
       "      <td>-4.137534</td>\n",
       "    </tr>\n",
       "  </tbody>\n",
       "</table>\n",
       "</div>"
      ],
      "text/plain": [
       "             Estimate\n",
       "logp        -0.350433\n",
       "home         0.973116\n",
       "cy          -0.000320\n",
       "hp          -0.009740\n",
       "we           0.001151\n",
       "li          -0.056361\n",
       "MCC         -1.176538\n",
       "VW           0.159212\n",
       "alfa romeo  -0.481739\n",
       "audi        -0.059687\n",
       "citroen     -0.369507\n",
       "daewoo      -0.430635\n",
       "daf         -0.795434\n",
       "fiat        -0.197321\n",
       "ford         0.163673\n",
       "honda       -0.187296\n",
       "hyundai     -0.749581\n",
       "innocenti   -0.952618\n",
       "lancia      -0.674198\n",
       "mazda       -0.268077\n",
       "mercedes     0.303942\n",
       "mitsubishi  -0.338838\n",
       "nissan      -0.096326\n",
       "opel         0.104400\n",
       "peugeot     -0.064666\n",
       "renault      0.000534\n",
       "rover       -0.295847\n",
       "saab        -0.615658\n",
       "seat        -0.716449\n",
       "skoda       -0.947195\n",
       "suzuki      -0.889842\n",
       "tal/hillman -0.733625\n",
       "tal/matra   -2.015706\n",
       "tal/simca   -0.287448\n",
       "tal/sunb    -3.409180\n",
       "talbot      -0.357037\n",
       "toyota       0.024339\n",
       "volvo        0.040995\n",
       "const       -4.137534"
      ]
     },
     "execution_count": 117,
     "metadata": {},
     "output_type": "execute_result"
    }
   ],
   "source": [
    "# compute the OLS estimator \n",
    "bet = np.linalg.inv(X.T @ X) @ X.T @ Y\n",
    "\n",
    "# print\n",
    "varnames = x_vars + ['const'] # we added the constant as the K+1'th column \n",
    "pd.DataFrame({'Estimate':bet}, index=varnames)"
   ]
  },
  {
   "cell_type": "markdown",
   "metadata": {},
   "source": [
    "# Towards logit \n",
    "\n",
    "In order to work with the logit model, you have to be able to compute the utility indices, which typically take the form of some inner product of an $x$-vector and a $\\theta$ vector. This is illustrated for you below. Since `x` is `(N,J,K)` (i.e. `x[i,j,:]` gives the $K$-vector of regressors for the car `j` in market-period `i`), we just have to form the matrix product `x @ theta`, and Python will do the sum over the 3rd dimension of `x`. "
   ]
  },
  {
   "cell_type": "code",
   "execution_count": 118,
   "metadata": {},
   "outputs": [
    {
     "data": {
      "text/plain": [
       "array([[0.025, 0.025, 0.025, ..., 0.025, 0.025, 0.025],\n",
       "       [0.025, 0.025, 0.025, ..., 0.025, 0.025, 0.025],\n",
       "       [0.025, 0.025, 0.025, ..., 0.025, 0.025, 0.025],\n",
       "       ...,\n",
       "       [0.025, 0.025, 0.025, ..., 0.025, 0.025, 0.025],\n",
       "       [0.025, 0.025, 0.025, ..., 0.025, 0.025, 0.025],\n",
       "       [0.025, 0.025, 0.025, ..., 0.025, 0.025, 0.025]])"
      ]
     },
     "execution_count": 118,
     "metadata": {},
     "output_type": "execute_result"
    }
   ],
   "source": [
    "theta0 = np.zeros((K,))\n",
    "v = (x @ theta0).astype(np.float64) # how to multiply a trial value with the matrix of regressors \n",
    "np.exp(v) / np.sum(np.exp(v), 1, keepdims=True) # choice probabilities "
   ]
  },
  {
   "cell_type": "markdown",
   "metadata": {},
   "source": [
    "# Conditional logit estimation\n",
    "\n"
   ]
  },
  {
   "cell_type": "code",
   "execution_count": 119,
   "metadata": {},
   "outputs": [],
   "source": [
    "y = cars['s'].values.reshape((N,J))\n"
   ]
  },
  {
   "cell_type": "code",
   "execution_count": 120,
   "metadata": {},
   "outputs": [
    {
     "name": "stderr",
     "output_type": "stream",
     "text": [
      "c:\\Users\\mcf234\\Desktop\\AME\\Projects\\AME---group-1\\Assignment 3\\clogit_post.py:61: RuntimeWarning: divide by zero encountered in log\n",
      "  temp = np.multiply(y, np.log(ccp))\n",
      "c:\\Users\\mcf234\\AppData\\Local\\anaconda3\\Lib\\site-packages\\scipy\\optimize\\_numdiff.py:576: RuntimeWarning: invalid value encountered in subtract\n",
      "  df = fun(x) - f0\n",
      "c:\\Users\\mcf234\\Desktop\\AME\\Projects\\AME---group-1\\Assignment 3\\clogit_post.py:61: RuntimeWarning: divide by zero encountered in log\n",
      "  temp = np.multiply(y, np.log(ccp))\n"
     ]
    },
    {
     "name": "stdout",
     "output_type": "stream",
     "text": [
      "Optimization terminated successfully.\n",
      "         Current function value: 3.473344\n",
      "         Iterations: 277\n",
      "         Function evaluations: 11124\n",
      "         Gradient evaluations: 285\n"
     ]
    },
    {
     "data": {
      "text/html": [
       "<div>\n",
       "<style scoped>\n",
       "    .dataframe tbody tr th:only-of-type {\n",
       "        vertical-align: middle;\n",
       "    }\n",
       "\n",
       "    .dataframe tbody tr th {\n",
       "        vertical-align: top;\n",
       "    }\n",
       "\n",
       "    .dataframe thead th {\n",
       "        text-align: right;\n",
       "    }\n",
       "</style>\n",
       "<table border=\"1\" class=\"dataframe\">\n",
       "  <thead>\n",
       "    <tr style=\"text-align: right;\">\n",
       "      <th></th>\n",
       "      <th>theta</th>\n",
       "      <th>se</th>\n",
       "      <th>t</th>\n",
       "    </tr>\n",
       "  </thead>\n",
       "  <tbody>\n",
       "    <tr>\n",
       "      <th>logp</th>\n",
       "      <td>-0.161060</td>\n",
       "      <td>0.131250</td>\n",
       "      <td>-1.227125</td>\n",
       "    </tr>\n",
       "    <tr>\n",
       "      <th>home</th>\n",
       "      <td>1.361720</td>\n",
       "      <td>0.032394</td>\n",
       "      <td>42.035998</td>\n",
       "    </tr>\n",
       "    <tr>\n",
       "      <th>cy</th>\n",
       "      <td>-0.000127</td>\n",
       "      <td>0.000085</td>\n",
       "      <td>-1.500005</td>\n",
       "    </tr>\n",
       "    <tr>\n",
       "      <th>hp</th>\n",
       "      <td>-0.014302</td>\n",
       "      <td>0.001935</td>\n",
       "      <td>-7.393128</td>\n",
       "    </tr>\n",
       "    <tr>\n",
       "      <th>we</th>\n",
       "      <td>0.000509</td>\n",
       "      <td>0.000190</td>\n",
       "      <td>2.674106</td>\n",
       "    </tr>\n",
       "    <tr>\n",
       "      <th>li</th>\n",
       "      <td>-0.031285</td>\n",
       "      <td>0.016654</td>\n",
       "      <td>-1.878561</td>\n",
       "    </tr>\n",
       "    <tr>\n",
       "      <th>MCC</th>\n",
       "      <td>-1.318312</td>\n",
       "      <td>0.118187</td>\n",
       "      <td>-11.154508</td>\n",
       "    </tr>\n",
       "    <tr>\n",
       "      <th>VW</th>\n",
       "      <td>0.181788</td>\n",
       "      <td>0.031135</td>\n",
       "      <td>5.838775</td>\n",
       "    </tr>\n",
       "    <tr>\n",
       "      <th>alfa romeo</th>\n",
       "      <td>-0.711683</td>\n",
       "      <td>0.062577</td>\n",
       "      <td>-11.372923</td>\n",
       "    </tr>\n",
       "    <tr>\n",
       "      <th>audi</th>\n",
       "      <td>-0.106102</td>\n",
       "      <td>0.047567</td>\n",
       "      <td>-2.230599</td>\n",
       "    </tr>\n",
       "    <tr>\n",
       "      <th>citroen</th>\n",
       "      <td>-0.493791</td>\n",
       "      <td>0.042087</td>\n",
       "      <td>-11.732542</td>\n",
       "    </tr>\n",
       "    <tr>\n",
       "      <th>daewoo</th>\n",
       "      <td>-0.466070</td>\n",
       "      <td>0.125168</td>\n",
       "      <td>-3.723542</td>\n",
       "    </tr>\n",
       "    <tr>\n",
       "      <th>daf</th>\n",
       "      <td>-0.708064</td>\n",
       "      <td>0.122022</td>\n",
       "      <td>-5.802744</td>\n",
       "    </tr>\n",
       "    <tr>\n",
       "      <th>fiat</th>\n",
       "      <td>-0.123252</td>\n",
       "      <td>0.045959</td>\n",
       "      <td>-2.681798</td>\n",
       "    </tr>\n",
       "    <tr>\n",
       "      <th>ford</th>\n",
       "      <td>0.062967</td>\n",
       "      <td>0.044955</td>\n",
       "      <td>1.400659</td>\n",
       "    </tr>\n",
       "    <tr>\n",
       "      <th>honda</th>\n",
       "      <td>-0.222268</td>\n",
       "      <td>0.055243</td>\n",
       "      <td>-4.023448</td>\n",
       "    </tr>\n",
       "    <tr>\n",
       "      <th>hyundai</th>\n",
       "      <td>-0.762313</td>\n",
       "      <td>0.098377</td>\n",
       "      <td>-7.748911</td>\n",
       "    </tr>\n",
       "    <tr>\n",
       "      <th>innocenti</th>\n",
       "      <td>-1.313109</td>\n",
       "      <td>0.185669</td>\n",
       "      <td>-7.072316</td>\n",
       "    </tr>\n",
       "    <tr>\n",
       "      <th>lancia</th>\n",
       "      <td>-0.919445</td>\n",
       "      <td>0.055040</td>\n",
       "      <td>-16.705135</td>\n",
       "    </tr>\n",
       "    <tr>\n",
       "      <th>mazda</th>\n",
       "      <td>-0.351890</td>\n",
       "      <td>0.053445</td>\n",
       "      <td>-6.584189</td>\n",
       "    </tr>\n",
       "    <tr>\n",
       "      <th>mercedes</th>\n",
       "      <td>0.479507</td>\n",
       "      <td>0.071288</td>\n",
       "      <td>6.726294</td>\n",
       "    </tr>\n",
       "    <tr>\n",
       "      <th>mitsubishi</th>\n",
       "      <td>-0.421145</td>\n",
       "      <td>0.053668</td>\n",
       "      <td>-7.847259</td>\n",
       "    </tr>\n",
       "    <tr>\n",
       "      <th>nissan</th>\n",
       "      <td>-0.147084</td>\n",
       "      <td>0.058490</td>\n",
       "      <td>-2.514688</td>\n",
       "    </tr>\n",
       "    <tr>\n",
       "      <th>opel</th>\n",
       "      <td>-0.002242</td>\n",
       "      <td>0.005736</td>\n",
       "      <td>-0.390827</td>\n",
       "    </tr>\n",
       "    <tr>\n",
       "      <th>peugeot</th>\n",
       "      <td>-0.057941</td>\n",
       "      <td>0.034001</td>\n",
       "      <td>-1.704098</td>\n",
       "    </tr>\n",
       "    <tr>\n",
       "      <th>renault</th>\n",
       "      <td>-0.008177</td>\n",
       "      <td>0.034480</td>\n",
       "      <td>-0.237148</td>\n",
       "    </tr>\n",
       "    <tr>\n",
       "      <th>rover</th>\n",
       "      <td>-0.385574</td>\n",
       "      <td>0.072777</td>\n",
       "      <td>-5.298010</td>\n",
       "    </tr>\n",
       "    <tr>\n",
       "      <th>saab</th>\n",
       "      <td>-0.754793</td>\n",
       "      <td>0.211028</td>\n",
       "      <td>-3.576741</td>\n",
       "    </tr>\n",
       "    <tr>\n",
       "      <th>seat</th>\n",
       "      <td>-0.741712</td>\n",
       "      <td>0.064966</td>\n",
       "      <td>-11.416934</td>\n",
       "    </tr>\n",
       "    <tr>\n",
       "      <th>skoda</th>\n",
       "      <td>-0.835695</td>\n",
       "      <td>0.114295</td>\n",
       "      <td>-7.311709</td>\n",
       "    </tr>\n",
       "    <tr>\n",
       "      <th>suzuki</th>\n",
       "      <td>-1.070304</td>\n",
       "      <td>0.116321</td>\n",
       "      <td>-9.201292</td>\n",
       "    </tr>\n",
       "    <tr>\n",
       "      <th>tal/hillman</th>\n",
       "      <td>-1.238018</td>\n",
       "      <td>0.130639</td>\n",
       "      <td>-9.476658</td>\n",
       "    </tr>\n",
       "    <tr>\n",
       "      <th>tal/matra</th>\n",
       "      <td>-2.483676</td>\n",
       "      <td>0.449932</td>\n",
       "      <td>-5.520116</td>\n",
       "    </tr>\n",
       "    <tr>\n",
       "      <th>tal/simca</th>\n",
       "      <td>-0.386395</td>\n",
       "      <td>0.094198</td>\n",
       "      <td>-4.101970</td>\n",
       "    </tr>\n",
       "    <tr>\n",
       "      <th>tal/sunb</th>\n",
       "      <td>-3.416038</td>\n",
       "      <td>0.545790</td>\n",
       "      <td>-6.258884</td>\n",
       "    </tr>\n",
       "    <tr>\n",
       "      <th>talbot</th>\n",
       "      <td>-0.406183</td>\n",
       "      <td>0.076970</td>\n",
       "      <td>-5.277176</td>\n",
       "    </tr>\n",
       "    <tr>\n",
       "      <th>toyota</th>\n",
       "      <td>-0.033275</td>\n",
       "      <td>0.046061</td>\n",
       "      <td>-0.722398</td>\n",
       "    </tr>\n",
       "    <tr>\n",
       "      <th>volvo</th>\n",
       "      <td>-0.008498</td>\n",
       "      <td>0.025983</td>\n",
       "      <td>-0.327058</td>\n",
       "    </tr>\n",
       "  </tbody>\n",
       "</table>\n",
       "</div>"
      ],
      "text/plain": [
       "                theta        se          t\n",
       "logp        -0.161060  0.131250  -1.227125\n",
       "home         1.361720  0.032394  42.035998\n",
       "cy          -0.000127  0.000085  -1.500005\n",
       "hp          -0.014302  0.001935  -7.393128\n",
       "we           0.000509  0.000190   2.674106\n",
       "li          -0.031285  0.016654  -1.878561\n",
       "MCC         -1.318312  0.118187 -11.154508\n",
       "VW           0.181788  0.031135   5.838775\n",
       "alfa romeo  -0.711683  0.062577 -11.372923\n",
       "audi        -0.106102  0.047567  -2.230599\n",
       "citroen     -0.493791  0.042087 -11.732542\n",
       "daewoo      -0.466070  0.125168  -3.723542\n",
       "daf         -0.708064  0.122022  -5.802744\n",
       "fiat        -0.123252  0.045959  -2.681798\n",
       "ford         0.062967  0.044955   1.400659\n",
       "honda       -0.222268  0.055243  -4.023448\n",
       "hyundai     -0.762313  0.098377  -7.748911\n",
       "innocenti   -1.313109  0.185669  -7.072316\n",
       "lancia      -0.919445  0.055040 -16.705135\n",
       "mazda       -0.351890  0.053445  -6.584189\n",
       "mercedes     0.479507  0.071288   6.726294\n",
       "mitsubishi  -0.421145  0.053668  -7.847259\n",
       "nissan      -0.147084  0.058490  -2.514688\n",
       "opel        -0.002242  0.005736  -0.390827\n",
       "peugeot     -0.057941  0.034001  -1.704098\n",
       "renault     -0.008177  0.034480  -0.237148\n",
       "rover       -0.385574  0.072777  -5.298010\n",
       "saab        -0.754793  0.211028  -3.576741\n",
       "seat        -0.741712  0.064966 -11.416934\n",
       "skoda       -0.835695  0.114295  -7.311709\n",
       "suzuki      -1.070304  0.116321  -9.201292\n",
       "tal/hillman -1.238018  0.130639  -9.476658\n",
       "tal/matra   -2.483676  0.449932  -5.520116\n",
       "tal/simca   -0.386395  0.094198  -4.101970\n",
       "tal/sunb    -3.416038  0.545790  -6.258884\n",
       "talbot      -0.406183  0.076970  -5.277176\n",
       "toyota      -0.033275  0.046061  -0.722398\n",
       "volvo       -0.008498  0.025983  -0.327058"
      ]
     },
     "execution_count": 120,
     "metadata": {},
     "output_type": "execute_result"
    }
   ],
   "source": [
    "res = est.estimate(clogit.q, theta0,  y, x, cov_type = \"Sandwich\")\n",
    "#print(res['log_like'])\n",
    "tab = pd.DataFrame({v:res[v] for v in ['theta', 'se', 't']}, index= x_vars)\n",
    "tab\n"
   ]
  },
  {
   "cell_type": "code",
   "execution_count": 121,
   "metadata": {},
   "outputs": [
    {
     "name": "stdout",
     "output_type": "stream",
     "text": [
      "-553.3319181170893\n"
     ]
    }
   ],
   "source": [
    "print(res['log_like'])"
   ]
  },
  {
   "cell_type": "markdown",
   "metadata": {},
   "source": [
    "# Price Elasticities"
   ]
  },
  {
   "cell_type": "code",
   "execution_count": 122,
   "metadata": {},
   "outputs": [
    {
     "name": "stdout",
     "output_type": "stream",
     "text": [
      "Own-price elasticity:  0.0564\n"
     ]
    }
   ],
   "source": [
    "thetahat = res['theta']\n",
    "# Calculate the original choice probabilities using the estimated parameters\n",
    "ccp1 = clogit.choice_prob(thetahat, x)\n",
    "\n",
    "E_own   = np.zeros((N, J))\n",
    "\n",
    "# Due to log price variable being the first element of x_vars, we can use k_price = 0\n",
    "k_price = 0 \n",
    "\n",
    "for j in range(J):\n",
    "    # A. copy \n",
    "    x2 = x.copy()\n",
    "    \n",
    "    # B. increase price just for car j \n",
    "    rel_change_x = 1e-3\n",
    "    x2[:, j, k_price] *= (1.0+rel_change_x)\n",
    "    \n",
    "    # C. evaluate CCPs.  calculate the new choice probabilities with the increased price.\n",
    "    ccp2 = clogit.choice_prob(thetahat, x2)\n",
    "    \n",
    "    # D. percentage change in CCPs \n",
    "    rel_change_y = ccp2 / ccp1 - 1.0 \n",
    "    \n",
    "    # E. elasticities \n",
    "    elasticity = rel_change_y / rel_change_x \n",
    "    \n",
    "    E_own[:, j] = elasticity[:, j]\n",
    "\n",
    "print(f'Own-price elasticity:  {np.mean(E_own).round(4)}')\n",
    "    "
   ]
  },
  {
   "cell_type": "code",
   "execution_count": 123,
   "metadata": {},
   "outputs": [
    {
     "name": "stdout",
     "output_type": "stream",
     "text": [
      "Elasticity, Domestic cars:   0.0453\n",
      "Elasticity, Imported cars: 0.0615\n"
     ]
    }
   ],
   "source": [
    "home = 1\n",
    "# Create two indexed, from where idx1 is for domestic cars\n",
    "# and idx0 is for imported cars.\n",
    "idx1 = x[:, :, home]==1\n",
    "idx0 = x[:, :, home]==0 \n",
    "print(f'Elasticity, Domestic cars:   {np.mean(E_own[idx1]).round(4)}')\n",
    "print(f'Elasticity, Imported cars: {np.mean(E_own[idx0]).round(4)}')"
   ]
  },
  {
   "cell_type": "code",
   "execution_count": 124,
   "metadata": {},
   "outputs": [
    {
     "name": "stdout",
     "output_type": "stream",
     "text": [
      "Own price elasticity 0.0564\n"
     ]
    }
   ],
   "source": [
    "k_price = 0\n",
    "dydx_J   = np.zeros((N, J))\n",
    "\n",
    "for j in range(J):\n",
    "\n",
    "    dydx_J[:,j]= x[:,j,k_price]*(1 - ccp1[:,j]) * thetahat[0]\n",
    "\n",
    "    # E. elasticities \n",
    "print(f'Own price elasticity {np.mean(dydx_J).round(4)}')\n",
    "# Formula from Green (Econometric Analysis)"
   ]
  },
  {
   "cell_type": "markdown",
   "metadata": {},
   "source": [
    "# Numerical partial effect of Home"
   ]
  },
  {
   "cell_type": "code",
   "execution_count": 125,
   "metadata": {},
   "outputs": [
    {
     "name": "stdout",
     "output_type": "stream",
     "text": [
      "Average partial effect  0.0301\n",
      "Partial effect on untreated (domestic cars):   0.0\n",
      "Partial effect on treated (Imported cars): 0.044\n"
     ]
    }
   ],
   "source": [
    "k_home = 1\n",
    "dydx_J   = np.zeros((N, J))\n",
    "\n",
    "for j in range(J):\n",
    "    # A. copy \n",
    "    x3 = x.copy()\n",
    "    \n",
    "    # B. Set car J to home \n",
    "    x3[:, j, k_home] = 1\n",
    "    # C. evaluate CCPs.  calculate the new choice probabilities with the increased price.\n",
    "    ccp3 = clogit.choice_prob(thetahat, x3)\n",
    "    \n",
    "    dydx_J[:,j]= ccp3[:,j] - ccp1[:,j]\n",
    "\n",
    "    # E. elasticities \n",
    "print(f'Average partial effect  {np.mean(dydx_J).round(4)}')\n",
    "\n",
    "# Ad hoc partial effect\n",
    "# Effect of \"treating\" all cars such that they are from \"home\".\n",
    "# Note that some cars already are home in some markets.\n",
    "# This reduce the overall effect in comparison to the next estimate.\n",
    "home = 1\n",
    "# Create two indexed, from where idx1 is for domestic cars\n",
    "# and idx0 is for imported cars.\n",
    "idx1 = x[:, :, home]==1\n",
    "idx0 = x[:, :, home]==0 \n",
    "print(f'Partial effect on untreated (domestic cars):   {np.mean(dydx_J[idx1]).round(4)}')\n",
    "print(f'Partial effect on treated (Imported cars): {np.mean(dydx_J[idx0]).round(4)}')"
   ]
  },
  {
   "cell_type": "code",
   "execution_count": 135,
   "metadata": {},
   "outputs": [
    {
     "name": "stdout",
     "output_type": "stream",
     "text": [
      "Partial effect  0.0328\n"
     ]
    }
   ],
   "source": [
    "\n",
    "k_home = 1\n",
    "PE_J   = np.zeros((N, J))\n",
    "\n",
    "for j in range(J):\n",
    " \n",
    "    PE_J[:,j]= ccp1[:,j]*(1 - ccp1[:,j]) * thetahat[1]\n",
    "\n",
    "    # E. elasticities \n",
    "print(f'Partial effect  {np.mean(PE_J).round(4)}')\n",
    "# Formula from Greene (Econometric analysis)\n",
    "# Does not account for cars already being from home"
   ]
  },
  {
   "cell_type": "code",
   "execution_count": 127,
   "metadata": {},
   "outputs": [
    {
     "name": "stdout",
     "output_type": "stream",
     "text": [
      "Own price elasticity -0.0007\n"
     ]
    }
   ],
   "source": [
    "k_price = 0\n",
    "dydx_J   = np.zeros((N, J))\n",
    "\n",
    "for m in range(J):\n",
    "    for j in range(J):\n",
    "        dydx_J[:,m]= x[:,m,k_price] * (1 * (m==j) - ccp1[:,m]) * thetahat[k_price]\n",
    "\n",
    "    # E. elasticities \n",
    "#print(f'Own price elasticity {np.mean(dydx_J).round(4)}')\n",
    "\n",
    "own_price  = np.zeros((N, J))\n",
    "for j in range(J):\n",
    "    own_price[:,j] = dydx_J[:,j]\n",
    "\n",
    "print(f'Own price elasticity {np.mean(own_price).round(4)}')\n",
    "# Something is probably wrong here."
   ]
  },
  {
   "cell_type": "markdown",
   "metadata": {},
   "source": [
    "# Calculate CI for partial effects using delta method"
   ]
  },
  {
   "cell_type": "code",
   "execution_count": 146,
   "metadata": {},
   "outputs": [
    {
     "ename": "ValueError",
     "evalue": "matmul: Input operand 1 has a mismatch in its core dimension 0, with gufunc signature (n?,k),(k,m?)->(n?,m?) (size 38 is different from 40)",
     "output_type": "error",
     "traceback": [
      "\u001b[1;31m---------------------------------------------------------------------------\u001b[0m",
      "\u001b[1;31mValueError\u001b[0m                                Traceback (most recent call last)",
      "Cell \u001b[1;32mIn[146], line 5\u001b[0m\n\u001b[0;32m      2\u001b[0m     cov_me \u001b[38;5;241m=\u001b[39m grad \u001b[38;5;241m@\u001b[39m cov \u001b[38;5;241m@\u001b[39m grad\u001b[38;5;241m.\u001b[39mT\n\u001b[0;32m      3\u001b[0m     \u001b[38;5;28;01mreturn\u001b[39;00m np\u001b[38;5;241m.\u001b[39msqrt(np\u001b[38;5;241m.\u001b[39mdiag(cov_me))\n\u001b[1;32m----> 5\u001b[0m se_pe_home \u001b[38;5;241m=\u001b[39m get_se(np\u001b[38;5;241m.\u001b[39mmean(PE_J,axis\u001b[38;5;241m=\u001b[39m\u001b[38;5;241m0\u001b[39m) , res[\u001b[38;5;124m'\u001b[39m\u001b[38;5;124mcov\u001b[39m\u001b[38;5;124m'\u001b[39m][:,\u001b[38;5;241m1\u001b[39m])\n",
      "Cell \u001b[1;32mIn[146], line 2\u001b[0m, in \u001b[0;36mget_se\u001b[1;34m(grad, cov)\u001b[0m\n\u001b[0;32m      1\u001b[0m \u001b[38;5;28;01mdef\u001b[39;00m \u001b[38;5;21mget_se\u001b[39m(grad, cov):\n\u001b[1;32m----> 2\u001b[0m     cov_me \u001b[38;5;241m=\u001b[39m grad \u001b[38;5;241m@\u001b[39m cov \u001b[38;5;241m@\u001b[39m grad\u001b[38;5;241m.\u001b[39mT\n\u001b[0;32m      3\u001b[0m     \u001b[38;5;28;01mreturn\u001b[39;00m np\u001b[38;5;241m.\u001b[39msqrt(np\u001b[38;5;241m.\u001b[39mdiag(cov_me))\n",
      "\u001b[1;31mValueError\u001b[0m: matmul: Input operand 1 has a mismatch in its core dimension 0, with gufunc signature (n?,k),(k,m?)->(n?,m?) (size 38 is different from 40)"
     ]
    }
   ],
   "source": [
    "def get_se(grad, cov):\n",
    "    cov_me = grad @ cov @ grad.T\n",
    "    return np.sqrt(np.diag(cov_me))\n",
    "\n",
    "se_pe_home = get_se(np.mean(PE_J,axis=0) , res['cov'][:,1])"
   ]
  },
  {
   "cell_type": "code",
   "execution_count": null,
   "metadata": {},
   "outputs": [],
   "source": [
    "# print results in a nice table \n",
    "me_dict = {'Marginal Effect': np.vstack([me_home])[:,0],\n",
    "           's.e.':            np.vstack([se_pe_home[3]])[:,0]}\n",
    "tab = pd.DataFrame(me_dict,index=['Home'])\n",
    "tab['t'] = tab['Marginal Effect'] / tab['s.e.']\n",
    "tab.index.name = 'Var'\n",
    "tab.round(4)"
   ]
  }
 ],
 "metadata": {
  "interpreter": {
   "hash": "7d7da66137592ac323fdae235f73f52cf7e1b708075c75a7c5667c329f8e3fd0"
  },
  "kernelspec": {
   "display_name": "Python 3.9.4 64-bit ('py39': conda)",
   "name": "python3"
  },
  "language_info": {
   "codemirror_mode": {
    "name": "ipython",
    "version": 3
   },
   "file_extension": ".py",
   "mimetype": "text/x-python",
   "name": "python",
   "nbconvert_exporter": "python",
   "pygments_lexer": "ipython3",
   "version": "3.11.4"
  }
 },
 "nbformat": 4,
 "nbformat_minor": 4
}
